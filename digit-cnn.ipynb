{
 "cells": [
  {
   "cell_type": "code",
   "execution_count": 1,
   "metadata": {
    "_cell_guid": "b1076dfc-b9ad-4769-8c92-a6c4dae69d19",
    "_uuid": "8f2839f25d086af736a60e9eeb907d3b93b6e0e5"
   },
   "outputs": [
    {
     "name": "stdout",
     "output_type": "stream",
     "text": [
      "/kaggle/input/digit-recognizer/sample_submission.csv\n",
      "/kaggle/input/digit-recognizer/train.csv\n",
      "/kaggle/input/digit-recognizer/test.csv\n"
     ]
    }
   ],
   "source": [
    "# Input data files are available in the \"../input/\" directory.\n",
    "# For example, running this (by clicking run or pressing Shift+Enter) will list all files under the input directory\n",
    "\n",
    "import os\n",
    "for dirname, _, filenames in os.walk('/kaggle/input'):\n",
    "    for filename in filenames:\n",
    "        print(os.path.join(dirname, filename))\n",
    "\n",
    "# Any results you write to the current directory are saved as output."
   ]
  },
  {
   "cell_type": "markdown",
   "metadata": {},
   "source": [
    "**Import Packages:**"
   ]
  },
  {
   "cell_type": "code",
   "execution_count": 2,
   "metadata": {},
   "outputs": [
    {
     "name": "stderr",
     "output_type": "stream",
     "text": [
      "Using TensorFlow backend.\n"
     ]
    }
   ],
   "source": [
    "#for dataframes\n",
    "import numpy as np\n",
    "import pandas as pd\n",
    "\n",
    "#for model\n",
    "from keras.models import Sequential \n",
    "from keras.layers import Dense, Dropout, Flatten, Conv2D, MaxPool2D\n",
    "from keras.optimizers import RMSprop\n",
    "from keras.preprocessing.image import ImageDataGenerator\n",
    "from keras.callbacks import ReduceLROnPlateau\n",
    "from keras.utils.np_utils import to_categorical \n",
    "\n",
    "#for cross validation\n",
    "from sklearn.model_selection import train_test_split\n",
    "from sklearn.metrics import confusion_matrix \n",
    "\n",
    "#for creating iterators for efficient looping\n",
    "import itertools\n",
    "\n",
    "#for visualization\n",
    "import matplotlib.pyplot  as plt\n",
    "import matplotlib.image as mpimg\n",
    "import seaborn as sns\n",
    "%matplotlib inline\n",
    "\n",
    "sns.set(style = \"white\")"
   ]
  },
  {
   "cell_type": "markdown",
   "metadata": {},
   "source": [
    "**Load Data:**"
   ]
  },
  {
   "cell_type": "code",
   "execution_count": 3,
   "metadata": {
    "_cell_guid": "79c7e3d0-c299-4dcb-8224-4455121ee9b0",
    "_uuid": "d629ff2d2480ee46fbb7e2d37f6b5fab8052498a"
   },
   "outputs": [],
   "source": [
    "data = pd.read_csv(\"/kaggle/input/digit-recognizer/train.csv\")\n",
    "test_final = pd.read_csv(\"/kaggle/input/digit-recognizer/test.csv\")"
   ]
  },
  {
   "cell_type": "markdown",
   "metadata": {},
   "source": [
    "**Check data:**"
   ]
  },
  {
   "cell_type": "code",
   "execution_count": 4,
   "metadata": {},
   "outputs": [
    {
     "name": "stdout",
     "output_type": "stream",
     "text": [
      "Index(['label', 'pixel0', 'pixel1', 'pixel2', 'pixel3', 'pixel4', 'pixel5',\n",
      "       'pixel6', 'pixel7', 'pixel8',\n",
      "       ...\n",
      "       'pixel774', 'pixel775', 'pixel776', 'pixel777', 'pixel778', 'pixel779',\n",
      "       'pixel780', 'pixel781', 'pixel782', 'pixel783'],\n",
      "      dtype='object', length=785)\n",
      "\n",
      "(42000, 785)\n",
      "\n"
     ]
    }
   ],
   "source": [
    "#checking size\n",
    "print(data.columns)\n",
    "print()\n",
    "print(data.shape)\n",
    "print()"
   ]
  },
  {
   "cell_type": "code",
   "execution_count": 5,
   "metadata": {},
   "outputs": [
    {
     "name": "stdout",
     "output_type": "stream",
     "text": [
      "1    4684\n",
      "7    4401\n",
      "3    4351\n",
      "9    4188\n",
      "2    4177\n",
      "6    4137\n",
      "0    4132\n",
      "4    4072\n",
      "8    4063\n",
      "5    3795\n",
      "Name: label, dtype: int64\n"
     ]
    },
    {
     "data": {
      "text/plain": [
       "<matplotlib.axes._subplots.AxesSubplot at 0x7f3b2a7b1898>"
      ]
     },
     "execution_count": 5,
     "metadata": {},
     "output_type": "execute_result"
    },
    {
     "data": {
      "image/png": "[encoded data removed]",
      "text/plain": [
       "<Figure size 432x288 with 1 Axes>"
      ]
     },
     "metadata": {},
     "output_type": "display_data"
    }
   ],
   "source": [
    "#checking numbers\n",
    "print(data['label'].value_counts())\n",
    "sns.countplot(data = data, x = 'label')"
   ]
  },
  {
   "cell_type": "code",
   "execution_count": 6,
   "metadata": {},
   "outputs": [
    {
     "data": {
      "text/html": [
       "<div>\n",
       "<style scoped>\n",
       "    .dataframe tbody tr th:only-of-type {\n",
       "        vertical-align: middle;\n",
       "    }\n",
       "\n",
       "    .dataframe tbody tr th {\n",
       "        vertical-align: top;\n",
       "    }\n",
       "\n",
       "    .dataframe thead th {\n",
       "        text-align: right;\n",
       "    }\n",
       "</style>\n",
       "<table border=\"1\" class=\"dataframe\">\n",
       "  <thead>\n",
       "    <tr style=\"text-align: right;\">\n",
       "      <th></th>\n",
       "      <th>pixel0</th>\n",
       "      <th>pixel1</th>\n",
       "      <th>pixel2</th>\n",
       "      <th>pixel3</th>\n",
       "      <th>pixel4</th>\n",
       "      <th>pixel5</th>\n",
       "      <th>pixel6</th>\n",
       "      <th>pixel7</th>\n",
       "      <th>pixel8</th>\n",
       "      <th>pixel9</th>\n",
       "      <th>...</th>\n",
       "      <th>pixel774</th>\n",
       "      <th>pixel775</th>\n",
       "      <th>pixel776</th>\n",
       "      <th>pixel777</th>\n",
       "      <th>pixel778</th>\n",
       "      <th>pixel779</th>\n",
       "      <th>pixel780</th>\n",
       "      <th>pixel781</th>\n",
       "      <th>pixel782</th>\n",
       "      <th>pixel783</th>\n",
       "    </tr>\n",
       "  </thead>\n",
       "  <tbody>\n",
       "    <tr>\n",
       "      <th>count</th>\n",
       "      <td>42000.0</td>\n",
       "      <td>42000.0</td>\n",
       "      <td>42000.0</td>\n",
       "      <td>42000.0</td>\n",
       "      <td>42000.0</td>\n",
       "      <td>42000.0</td>\n",
       "      <td>42000.0</td>\n",
       "      <td>42000.0</td>\n",
       "      <td>42000.0</td>\n",
       "      <td>42000.0</td>\n",
       "      <td>...</td>\n",
       "      <td>42000.000000</td>\n",
       "      <td>42000.000000</td>\n",
       "      <td>42000.000000</td>\n",
       "      <td>42000.00000</td>\n",
       "      <td>42000.000000</td>\n",
       "      <td>42000.000000</td>\n",
       "      <td>42000.0</td>\n",
       "      <td>42000.0</td>\n",
       "      <td>42000.0</td>\n",
       "      <td>42000.0</td>\n",
       "    </tr>\n",
       "    <tr>\n",
       "      <th>mean</th>\n",
       "      <td>0.0</td>\n",
       "      <td>0.0</td>\n",
       "      <td>0.0</td>\n",
       "      <td>0.0</td>\n",
       "      <td>0.0</td>\n",
       "      <td>0.0</td>\n",
       "      <td>0.0</td>\n",
       "      <td>0.0</td>\n",
       "      <td>0.0</td>\n",
       "      <td>0.0</td>\n",
       "      <td>...</td>\n",
       "      <td>0.219286</td>\n",
       "      <td>0.117095</td>\n",
       "      <td>0.059024</td>\n",
       "      <td>0.02019</td>\n",
       "      <td>0.017238</td>\n",
       "      <td>0.002857</td>\n",
       "      <td>0.0</td>\n",
       "      <td>0.0</td>\n",
       "      <td>0.0</td>\n",
       "      <td>0.0</td>\n",
       "    </tr>\n",
       "    <tr>\n",
       "      <th>std</th>\n",
       "      <td>0.0</td>\n",
       "      <td>0.0</td>\n",
       "      <td>0.0</td>\n",
       "      <td>0.0</td>\n",
       "      <td>0.0</td>\n",
       "      <td>0.0</td>\n",
       "      <td>0.0</td>\n",
       "      <td>0.0</td>\n",
       "      <td>0.0</td>\n",
       "      <td>0.0</td>\n",
       "      <td>...</td>\n",
       "      <td>6.312890</td>\n",
       "      <td>4.633819</td>\n",
       "      <td>3.274488</td>\n",
       "      <td>1.75987</td>\n",
       "      <td>1.894498</td>\n",
       "      <td>0.414264</td>\n",
       "      <td>0.0</td>\n",
       "      <td>0.0</td>\n",
       "      <td>0.0</td>\n",
       "      <td>0.0</td>\n",
       "    </tr>\n",
       "    <tr>\n",
       "      <th>min</th>\n",
       "      <td>0.0</td>\n",
       "      <td>0.0</td>\n",
       "      <td>0.0</td>\n",
       "      <td>0.0</td>\n",
       "      <td>0.0</td>\n",
       "      <td>0.0</td>\n",
       "      <td>0.0</td>\n",
       "      <td>0.0</td>\n",
       "      <td>0.0</td>\n",
       "      <td>0.0</td>\n",
       "      <td>...</td>\n",
       "      <td>0.000000</td>\n",
       "      <td>0.000000</td>\n",
       "      <td>0.000000</td>\n",
       "      <td>0.00000</td>\n",
       "      <td>0.000000</td>\n",
       "      <td>0.000000</td>\n",
       "      <td>0.0</td>\n",
       "      <td>0.0</td>\n",
       "      <td>0.0</td>\n",
       "      <td>0.0</td>\n",
       "    </tr>\n",
       "    <tr>\n",
       "      <th>25%</th>\n",
       "      <td>0.0</td>\n",
       "      <td>0.0</td>\n",
       "      <td>0.0</td>\n",
       "      <td>0.0</td>\n",
       "      <td>0.0</td>\n",
       "      <td>0.0</td>\n",
       "      <td>0.0</td>\n",
       "      <td>0.0</td>\n",
       "      <td>0.0</td>\n",
       "      <td>0.0</td>\n",
       "      <td>...</td>\n",
       "      <td>0.000000</td>\n",
       "      <td>0.000000</td>\n",
       "      <td>0.000000</td>\n",
       "      <td>0.00000</td>\n",
       "      <td>0.000000</td>\n",
       "      <td>0.000000</td>\n",
       "      <td>0.0</td>\n",
       "      <td>0.0</td>\n",
       "      <td>0.0</td>\n",
       "      <td>0.0</td>\n",
       "    </tr>\n",
       "    <tr>\n",
       "      <th>50%</th>\n",
       "      <td>0.0</td>\n",
       "      <td>0.0</td>\n",
       "      <td>0.0</td>\n",
       "      <td>0.0</td>\n",
       "      <td>0.0</td>\n",
       "      <td>0.0</td>\n",
       "      <td>0.0</td>\n",
       "      <td>0.0</td>\n",
       "      <td>0.0</td>\n",
       "      <td>0.0</td>\n",
       "      <td>...</td>\n",
       "      <td>0.000000</td>\n",
       "      <td>0.000000</td>\n",
       "      <td>0.000000</td>\n",
       "      <td>0.00000</td>\n",
       "      <td>0.000000</td>\n",
       "      <td>0.000000</td>\n",
       "      <td>0.0</td>\n",
       "      <td>0.0</td>\n",
       "      <td>0.0</td>\n",
       "      <td>0.0</td>\n",
       "    </tr>\n",
       "    <tr>\n",
       "      <th>75%</th>\n",
       "      <td>0.0</td>\n",
       "      <td>0.0</td>\n",
       "      <td>0.0</td>\n",
       "      <td>0.0</td>\n",
       "      <td>0.0</td>\n",
       "      <td>0.0</td>\n",
       "      <td>0.0</td>\n",
       "      <td>0.0</td>\n",
       "      <td>0.0</td>\n",
       "      <td>0.0</td>\n",
       "      <td>...</td>\n",
       "      <td>0.000000</td>\n",
       "      <td>0.000000</td>\n",
       "      <td>0.000000</td>\n",
       "      <td>0.00000</td>\n",
       "      <td>0.000000</td>\n",
       "      <td>0.000000</td>\n",
       "      <td>0.0</td>\n",
       "      <td>0.0</td>\n",
       "      <td>0.0</td>\n",
       "      <td>0.0</td>\n",
       "    </tr>\n",
       "    <tr>\n",
       "      <th>max</th>\n",
       "      <td>0.0</td>\n",
       "      <td>0.0</td>\n",
       "      <td>0.0</td>\n",
       "      <td>0.0</td>\n",
       "      <td>0.0</td>\n",
       "      <td>0.0</td>\n",
       "      <td>0.0</td>\n",
       "      <td>0.0</td>\n",
       "      <td>0.0</td>\n",
       "      <td>0.0</td>\n",
       "      <td>...</td>\n",
       "      <td>254.000000</td>\n",
       "      <td>254.000000</td>\n",
       "      <td>253.000000</td>\n",
       "      <td>253.00000</td>\n",
       "      <td>254.000000</td>\n",
       "      <td>62.000000</td>\n",
       "      <td>0.0</td>\n",
       "      <td>0.0</td>\n",
       "      <td>0.0</td>\n",
       "      <td>0.0</td>\n",
       "    </tr>\n",
       "  </tbody>\n",
       "</table>\n",
       "<p>8 rows × 784 columns</p>\n",
       "</div>"
      ],
      "text/plain": [
       "        pixel0   pixel1   pixel2   pixel3   pixel4   pixel5   pixel6   pixel7  \\\n",
       "count  42000.0  42000.0  42000.0  42000.0  42000.0  42000.0  42000.0  42000.0   \n",
       "mean       0.0      0.0      0.0      0.0      0.0      0.0      0.0      0.0   \n",
       "std        0.0      0.0      0.0      0.0      0.0      0.0      0.0      0.0   \n",
       "min        0.0      0.0      0.0      0.0      0.0      0.0      0.0      0.0   \n",
       "25%        0.0      0.0      0.0      0.0      0.0      0.0      0.0      0.0   \n",
       "50%        0.0      0.0      0.0      0.0      0.0      0.0      0.0      0.0   \n",
       "75%        0.0      0.0      0.0      0.0      0.0      0.0      0.0      0.0   \n",
       "max        0.0      0.0      0.0      0.0      0.0      0.0      0.0      0.0   \n",
       "\n",
       "        pixel8   pixel9  ...      pixel774      pixel775      pixel776  \\\n",
       "count  42000.0  42000.0  ...  42000.000000  42000.000000  42000.000000   \n",
       "mean       0.0      0.0  ...      0.219286      0.117095      0.059024   \n",
       "std        0.0      0.0  ...      6.312890      4.633819      3.274488   \n",
       "min        0.0      0.0  ...      0.000000      0.000000      0.000000   \n",
       "25%        0.0      0.0  ...      0.000000      0.000000      0.000000   \n",
       "50%        0.0      0.0  ...      0.000000      0.000000      0.000000   \n",
       "75%        0.0      0.0  ...      0.000000      0.000000      0.000000   \n",
       "max        0.0      0.0  ...    254.000000    254.000000    253.000000   \n",
       "\n",
       "          pixel777      pixel778      pixel779  pixel780  pixel781  pixel782  \\\n",
       "count  42000.00000  42000.000000  42000.000000   42000.0   42000.0   42000.0   \n",
       "mean       0.02019      0.017238      0.002857       0.0       0.0       0.0   \n",
       "std        1.75987      1.894498      0.414264       0.0       0.0       0.0   \n",
       "min        0.00000      0.000000      0.000000       0.0       0.0       0.0   \n",
       "25%        0.00000      0.000000      0.000000       0.0       0.0       0.0   \n",
       "50%        0.00000      0.000000      0.000000       0.0       0.0       0.0   \n",
       "75%        0.00000      0.000000      0.000000       0.0       0.0       0.0   \n",
       "max      253.00000    254.000000     62.000000       0.0       0.0       0.0   \n",
       "\n",
       "       pixel783  \n",
       "count   42000.0  \n",
       "mean        0.0  \n",
       "std         0.0  \n",
       "min         0.0  \n",
       "25%         0.0  \n",
       "50%         0.0  \n",
       "75%         0.0  \n",
       "max         0.0  \n",
       "\n",
       "[8 rows x 784 columns]"
      ]
     },
     "execution_count": 6,
     "metadata": {},
     "output_type": "execute_result"
    }
   ],
   "source": [
    "dataX = data.drop(['label'], axis = 1)\n",
    "dataY = data['label']\n",
    "dataX.describe()"
   ]
  },
  {
   "cell_type": "code",
   "execution_count": 7,
   "metadata": {},
   "outputs": [
    {
     "name": "stdout",
     "output_type": "stream",
     "text": [
      "count       784\n",
      "unique        1\n",
      "top       False\n",
      "freq        784\n",
      "dtype: object\n",
      "\n",
      "count       784\n",
      "unique        1\n",
      "top       False\n",
      "freq        784\n",
      "dtype: object\n",
      "\n",
      "0\n"
     ]
    }
   ],
   "source": [
    "data_clean = [dataX, test_final]\n",
    "#checking for missing data\n",
    "for df in data_clean:\n",
    "    print(df.isnull().any().describe())\n",
    "    print()\n",
    "print(dataY.isnull().sum())"
   ]
  },
  {
   "cell_type": "markdown",
   "metadata": {},
   "source": [
    "Interpretation: No missing data found\n",
    "\n",
    "**Process the data:**"
   ]
  },
  {
   "cell_type": "code",
   "execution_count": 8,
   "metadata": {},
   "outputs": [],
   "source": [
    "#Normalization\n",
    "dataX = dataX/255.0\n",
    "test_final = test_final/255.0"
   ]
  },
  {
   "cell_type": "code",
   "execution_count": 9,
   "metadata": {},
   "outputs": [],
   "source": [
    "#Reshape\n",
    "dataX = dataX.values.reshape(-1, 28, 28, 1)\n",
    "test_final = test_final.values.reshape(-1, 28, 28, 1)"
   ]
  },
  {
   "cell_type": "code",
   "execution_count": 10,
   "metadata": {},
   "outputs": [
    {
     "data": {
      "text/plain": [
       "array([[0., 1., 0., ..., 0., 0., 0.],\n",
       "       [1., 0., 0., ..., 0., 0., 0.],\n",
       "       [0., 1., 0., ..., 0., 0., 0.],\n",
       "       ...,\n",
       "       [0., 0., 0., ..., 1., 0., 0.],\n",
       "       [0., 0., 0., ..., 0., 0., 0.],\n",
       "       [0., 0., 0., ..., 0., 0., 1.]], dtype=float32)"
      ]
     },
     "execution_count": 10,
     "metadata": {},
     "output_type": "execute_result"
    }
   ],
   "source": [
    "#label encode\n",
    "dataY = to_categorical(dataY, num_classes = 10)\n",
    "dataY"
   ]
  },
  {
   "cell_type": "code",
   "execution_count": 11,
   "metadata": {},
   "outputs": [
    {
     "name": "stdout",
     "output_type": "stream",
     "text": [
      "(37800, 28, 28, 1)\n",
      "(4200, 28, 28, 1)\n",
      "(37800, 10)\n",
      "(4200, 10)\n"
     ]
    }
   ],
   "source": [
    "#split train, test\n",
    "x_train , x_test, y_train, y_test = train_test_split(dataX, dataY, test_size = 0.1)\n",
    "print(x_train.shape)\n",
    "print(x_test.shape)\n",
    "print(y_train.shape)\n",
    "print(y_test.shape)"
   ]
  },
  {
   "cell_type": "code",
   "execution_count": 12,
   "metadata": {},
   "outputs": [
    {
     "data": {
      "text/plain": [
       "<matplotlib.image.AxesImage at 0x7f3b2a9a8358>"
      ]
     },
     "execution_count": 12,
     "metadata": {},
     "output_type": "execute_result"
    },
    {
     "data": {
      "image/png": "[encoded data removed]",
      "text/plain": [
       "<Figure size 432x288 with 1 Axes>"
      ]
     },
     "metadata": {},
     "output_type": "display_data"
    }
   ],
   "source": [
    "plt.imshow(x_train[1][:,:,0])"
   ]
  },
  {
   "cell_type": "markdown",
   "metadata": {},
   "source": [
    "**Create a model:**"
   ]
  },
  {
   "cell_type": "code",
   "execution_count": 13,
   "metadata": {},
   "outputs": [],
   "source": [
    "#sequential model is a linear stack of layer\n",
    "model = Sequential()\n",
    "\n",
    "#computes 2D convolution of a given 4D input\n",
    "'''1st convolution+maxpool layer with\n",
    "32 filters, 5X5 feature detectors with rectifier fuction to increase non linearity'''\n",
    "model.add(Conv2D(filters = 32, kernel_size = (5, 5), activation = 'relu', input_shape = (28, 28, 1)))\n",
    "model.add(Conv2D(filters = 32, kernel_size = (5, 5), activation = 'relu'))\n",
    "model.add(MaxPool2D(pool_size = (2, 2)))\n",
    "model.add(Dropout(0.40))\n",
    "\n",
    "'''2nd convolution+maxpool layer with\n",
    "64 filters, 3X3 feature detectors with rectifier fuction to increase non linearity'''\n",
    "model.add(Conv2D(filters = 64, kernel_size = (3, 3), activation = 'relu'))\n",
    "model.add(Conv2D(filters = 64, kernel_size = (3, 3), activation = 'relu'))\n",
    "model.add(MaxPool2D(pool_size = (2, 2)))\n",
    "model.add(Dropout(0.40))\n",
    "\n",
    "#converts convolutional part of CNN into a 1D feature vector of ANN\n",
    "model.add(Flatten())\n",
    "\n",
    "#fully connected layer\n",
    "model.add(Dense(256, activation = 'relu')) \n",
    "model.add(Dropout(0.50))\n",
    "model.add(Dense(10, activation = 'softmax'))\n",
    "\n",
    "#optimizing\n",
    "optimizer = RMSprop(lr = 0.001)\n",
    "model.compile(optimizer = optimizer, loss = 'categorical_crossentropy', metrics = ['accuracy'])"
   ]
  },
  {
   "cell_type": "markdown",
   "metadata": {},
   "source": [
    "**Reduce learning rate when a metric has stopped improving:**"
   ]
  },
  {
   "cell_type": "code",
   "execution_count": 14,
   "metadata": {},
   "outputs": [],
   "source": [
    "reduce_lr = ReduceLROnPlateau(monitor = 'val_accuracy', #accuracy monitored\n",
    "                              verbose = 1, # update messages.\n",
    "                              patience = 5, #after 5 epochs\n",
    "                              factor = 0.5 ,#learning rate will be half\n",
    "                              min_lr = 0.00001 #minimum learning rate\n",
    "                             ) "
   ]
  },
  {
   "cell_type": "markdown",
   "metadata": {},
   "source": [
    "**Data augmentation:**"
   ]
  },
  {
   "cell_type": "code",
   "execution_count": 15,
   "metadata": {},
   "outputs": [],
   "source": [
    "#data augmentation\n",
    "'''\n",
    "creates batches of images by shifting, zooming, rotating \n",
    "prevents overfitting\n",
    "'''\n",
    "augment_data = ImageDataGenerator(\n",
    "        rotation_range=10,  # randomly rotate images by 10 degree\n",
    "        zoom_range = 0.1, # Randomly zoom image by 10%\n",
    "        width_shift_range=0.1,  # randomly shift images horizontally by 10%\n",
    "        height_shift_range=0.1,  # randomly shift images vertically by 10%\n",
    "        horizontal_flip=False,  # no random horizontal flipping allowed\n",
    "        vertical_flip=False) # no random vertical flipping allowed\n",
    "\n",
    "augment_data.fit(x_train)"
   ]
  },
  {
   "cell_type": "markdown",
   "metadata": {},
   "source": [
    "**Fit the model:**"
   ]
  },
  {
   "cell_type": "code",
   "execution_count": 16,
   "metadata": {},
   "outputs": [],
   "source": [
    "epochs = 40\n",
    "batch_size = 64\n",
    "train_set = augment_data.flow(x_train, y_train, batch_size =  batch_size)\n",
    "test_set = (x_test, y_test)"
   ]
  },
  {
   "cell_type": "code",
   "execution_count": 17,
   "metadata": {},
   "outputs": [
    {
     "name": "stdout",
     "output_type": "stream",
     "text": [
      "Epoch 1/40\n",
      " - 13s - loss: 0.5930 - accuracy: 0.8058 - val_loss: 0.0675 - val_accuracy: 0.9798\n",
      "Epoch 2/40\n",
      " - 11s - loss: 0.1881 - accuracy: 0.9449 - val_loss: 0.0473 - val_accuracy: 0.9862\n",
      "Epoch 3/40\n",
      " - 11s - loss: 0.1360 - accuracy: 0.9597 - val_loss: 0.0464 - val_accuracy: 0.9857\n",
      "Epoch 4/40\n",
      " - 11s - loss: 0.1110 - accuracy: 0.9679 - val_loss: 0.0593 - val_accuracy: 0.9833\n",
      "Epoch 5/40\n",
      " - 11s - loss: 0.1014 - accuracy: 0.9712 - val_loss: 0.0343 - val_accuracy: 0.9905\n",
      "Epoch 6/40\n",
      " - 11s - loss: 0.0971 - accuracy: 0.9727 - val_loss: 0.0337 - val_accuracy: 0.9890\n",
      "Epoch 7/40\n",
      " - 11s - loss: 0.0894 - accuracy: 0.9754 - val_loss: 0.0341 - val_accuracy: 0.9900\n",
      "Epoch 8/40\n",
      " - 12s - loss: 0.0896 - accuracy: 0.9751 - val_loss: 0.0491 - val_accuracy: 0.9890\n",
      "Epoch 9/40\n",
      " - 11s - loss: 0.0869 - accuracy: 0.9765 - val_loss: 0.0412 - val_accuracy: 0.9888\n",
      "Epoch 10/40\n",
      " - 11s - loss: 0.0900 - accuracy: 0.9760 - val_loss: 0.0318 - val_accuracy: 0.9924\n",
      "Epoch 11/40\n",
      " - 11s - loss: 0.0956 - accuracy: 0.9757 - val_loss: 0.0313 - val_accuracy: 0.9910\n",
      "Epoch 12/40\n",
      " - 11s - loss: 0.0932 - accuracy: 0.9761 - val_loss: 0.0373 - val_accuracy: 0.9914\n",
      "Epoch 13/40\n",
      " - 11s - loss: 0.1001 - accuracy: 0.9739 - val_loss: 0.0457 - val_accuracy: 0.9900\n",
      "Epoch 14/40\n",
      " - 11s - loss: 0.1037 - accuracy: 0.9749 - val_loss: 0.0321 - val_accuracy: 0.9914\n",
      "Epoch 15/40\n",
      " - 11s - loss: 0.1050 - accuracy: 0.9742 - val_loss: 0.0386 - val_accuracy: 0.9907\n",
      "\n",
      "Epoch 00015: ReduceLROnPlateau reducing learning rate to 0.0005000000237487257.\n",
      "Epoch 16/40\n",
      " - 11s - loss: 0.0775 - accuracy: 0.9797 - val_loss: 0.0300 - val_accuracy: 0.9926\n",
      "Epoch 17/40\n",
      " - 11s - loss: 0.0781 - accuracy: 0.9803 - val_loss: 0.0397 - val_accuracy: 0.9912\n",
      "Epoch 18/40\n",
      " - 11s - loss: 0.0813 - accuracy: 0.9802 - val_loss: 0.0398 - val_accuracy: 0.9910\n",
      "Epoch 19/40\n",
      " - 11s - loss: 0.0791 - accuracy: 0.9803 - val_loss: 0.0399 - val_accuracy: 0.9929\n",
      "Epoch 20/40\n",
      " - 11s - loss: 0.0769 - accuracy: 0.9808 - val_loss: 0.0393 - val_accuracy: 0.9931\n",
      "Epoch 21/40\n",
      " - 11s - loss: 0.0840 - accuracy: 0.9791 - val_loss: 0.0499 - val_accuracy: 0.9924\n",
      "Epoch 22/40\n",
      " - 11s - loss: 0.0857 - accuracy: 0.9797 - val_loss: 0.0388 - val_accuracy: 0.9907\n",
      "Epoch 23/40\n",
      " - 11s - loss: 0.0865 - accuracy: 0.9784 - val_loss: 0.0483 - val_accuracy: 0.9874\n",
      "Epoch 24/40\n",
      " - 11s - loss: 0.0837 - accuracy: 0.9793 - val_loss: 0.0445 - val_accuracy: 0.9907\n",
      "Epoch 25/40\n",
      " - 11s - loss: 0.0879 - accuracy: 0.9788 - val_loss: 0.0479 - val_accuracy: 0.9881\n",
      "\n",
      "Epoch 00025: ReduceLROnPlateau reducing learning rate to 0.0002500000118743628.\n",
      "Epoch 26/40\n",
      " - 11s - loss: 0.0722 - accuracy: 0.9815 - val_loss: 0.0346 - val_accuracy: 0.9919\n",
      "Epoch 27/40\n",
      " - 11s - loss: 0.0677 - accuracy: 0.9822 - val_loss: 0.0418 - val_accuracy: 0.9921\n",
      "Epoch 28/40\n",
      " - 11s - loss: 0.0708 - accuracy: 0.9827 - val_loss: 0.0628 - val_accuracy: 0.9905\n",
      "Epoch 29/40\n",
      " - 11s - loss: 0.0673 - accuracy: 0.9830 - val_loss: 0.0499 - val_accuracy: 0.9912\n",
      "Epoch 30/40\n",
      " - 11s - loss: 0.0715 - accuracy: 0.9826 - val_loss: 0.0430 - val_accuracy: 0.9905\n",
      "\n",
      "Epoch 00030: ReduceLROnPlateau reducing learning rate to 0.0001250000059371814.\n",
      "Epoch 31/40\n",
      " - 11s - loss: 0.0624 - accuracy: 0.9839 - val_loss: 0.0438 - val_accuracy: 0.9929\n",
      "Epoch 32/40\n",
      " - 11s - loss: 0.0617 - accuracy: 0.9844 - val_loss: 0.0439 - val_accuracy: 0.9912\n",
      "Epoch 33/40\n",
      " - 11s - loss: 0.0638 - accuracy: 0.9842 - val_loss: 0.0364 - val_accuracy: 0.9924\n",
      "Epoch 34/40\n",
      " - 11s - loss: 0.0633 - accuracy: 0.9843 - val_loss: 0.0438 - val_accuracy: 0.9919\n",
      "Epoch 35/40\n",
      " - 11s - loss: 0.0655 - accuracy: 0.9837 - val_loss: 0.0492 - val_accuracy: 0.9921\n",
      "\n",
      "Epoch 00035: ReduceLROnPlateau reducing learning rate to 6.25000029685907e-05.\n",
      "Epoch 36/40\n",
      " - 12s - loss: 0.0606 - accuracy: 0.9850 - val_loss: 0.0440 - val_accuracy: 0.9924\n",
      "Epoch 37/40\n",
      " - 11s - loss: 0.0558 - accuracy: 0.9858 - val_loss: 0.0490 - val_accuracy: 0.9921\n",
      "Epoch 38/40\n",
      " - 11s - loss: 0.0585 - accuracy: 0.9842 - val_loss: 0.0429 - val_accuracy: 0.9931\n",
      "Epoch 39/40\n",
      " - 11s - loss: 0.0565 - accuracy: 0.9858 - val_loss: 0.0471 - val_accuracy: 0.9921\n",
      "Epoch 40/40\n",
      " - 11s - loss: 0.0603 - accuracy: 0.9845 - val_loss: 0.0418 - val_accuracy: 0.9931\n",
      "\n",
      "Epoch 00040: ReduceLROnPlateau reducing learning rate to 3.125000148429535e-05.\n"
     ]
    }
   ],
   "source": [
    "details = model.fit_generator(\n",
    "    train_set,\n",
    "    validation_data = test_set,\n",
    "    epochs = epochs,\n",
    "    verbose = 2,\n",
    "    steps_per_epoch = x_train.shape[0]//batch_size,\n",
    "    callbacks = [reduce_lr]\n",
    ")"
   ]
  },
  {
   "cell_type": "markdown",
   "metadata": {},
   "source": [
    "**Model evaluation:**"
   ]
  },
  {
   "cell_type": "code",
   "execution_count": 18,
   "metadata": {},
   "outputs": [
    {
     "data": {
      "image/png": "[encoded data removed]",
      "text/plain": [
       "<Figure size 432x288 with 2 Axes>"
      ]
     },
     "metadata": {},
     "output_type": "display_data"
    }
   ],
   "source": [
    "#plotting train, test accuracy\n",
    "fig, ax = plt.subplots(2, 1)\n",
    "ax[0].plot(details.history['loss'], label = 'Training loss')\n",
    "ax[0].plot(details.history['val_loss'], label = 'Testing loss')\n",
    "ax[0].legend(loc = 'upper right')\n",
    "\n",
    "ax[1].plot(details.history['accuracy'], label = 'Training accuracy')\n",
    "ax[1].plot(details.history['val_accuracy'], label = 'Testing accuracy')\n",
    "ax[1].legend(loc = 'upper right')\n",
    "plt.show()"
   ]
  },
  {
   "cell_type": "code",
   "execution_count": 19,
   "metadata": {},
   "outputs": [],
   "source": [
    "#Confusion matrix\n",
    "y_pred = model.predict(x_test)\n",
    "#as classification metrics can't handle a mix of multilabel-indicator and continuous-multioutput targets\n",
    "# we need to convert encoded y values to original digits\n",
    "y_true = np.argmax(y_test, axis = 1)\n",
    "y_pred = np.argmax(y_pred, axis = 1)\n",
    "cm = confusion_matrix(y_true, y_pred)"
   ]
  },
  {
   "cell_type": "code",
   "execution_count": 20,
   "metadata": {},
   "outputs": [
    {
     "data": {
      "text/plain": [
       "Text(0.5, 12.5, 'predicted value')"
      ]
     },
     "execution_count": 20,
     "metadata": {},
     "output_type": "execute_result"
    },
    {
     "data": {
      "image/png": "[encoded data removed]",
      "text/plain": [
       "<Figure size 432x288 with 2 Axes>"
      ]
     },
     "metadata": {},
     "output_type": "display_data"
    }
   ],
   "source": [
    "sns.heatmap(cm, annot = True, fmt = 'd', cmap=\"YlGnBu\")\n",
    "plt.ylabel('True value')\n",
    "plt.xlabel('predicted value')"
   ]
  },
  {
   "cell_type": "markdown",
   "metadata": {},
   "source": [
    "**Final submission:**"
   ]
  },
  {
   "cell_type": "code",
   "execution_count": 21,
   "metadata": {},
   "outputs": [],
   "source": [
    "result = model.predict(test_final)\n",
    "#convert from encoded to digit\n",
    "result = np.argmax(result, axis = 1)\n",
    "result = pd.Series(result,name=\"Label\")\n",
    "index = pd.Series(range(1, 28001),name=\"ImageID\")\n",
    "submission = pd.concat([index, result], axis = 1)\n",
    "submission.to_csv(\"submission.csv\", index = False)"
   ]
  }
 ],
 "metadata": {
  "kernelspec": {
   "display_name": "Python 3",
   "language": "python",
   "name": "python3"
  },
  "language_info": {
   "codemirror_mode": {
    "name": "ipython",
    "version": 3
   },
   "file_extension": ".py",
   "mimetype": "text/x-python",
   "name": "python",
   "nbconvert_exporter": "python",
   "pygments_lexer": "ipython3",
   "version": "3.6.6"
  }
 },
 "nbformat": 4,
 "nbformat_minor": 1
}
